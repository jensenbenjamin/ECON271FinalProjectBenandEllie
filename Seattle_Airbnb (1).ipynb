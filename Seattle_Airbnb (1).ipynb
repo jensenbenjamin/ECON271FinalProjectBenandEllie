{
 "cells": [
  {
   "cell_type": "code",
   "execution_count": 1,
   "metadata": {},
   "outputs": [],
   "source": [
    "#import all the packages and libraries needed for our project\n",
    "import pandas as pd\n",
    "import numpy as np\n",
    "import seaborn as sns\n",
    "import matplotlib.pyplot as plt\n",
    "import statsmodels.api as sm\n",
    "import patsy\n",
    "import statsmodels.formula.api as smf\n",
    "from statsmodels.iolib.summary2 import summary_col"
   ]
  },
  {
   "cell_type": "code",
   "execution_count": 2,
   "metadata": {},
   "outputs": [],
   "source": [
    "#Calling a magic function from matplotlib\n",
    "%matplotlib inline"
   ]
  },
  {
   "cell_type": "code",
   "execution_count": 3,
   "metadata": {},
   "outputs": [],
   "source": [
    "#define our data frame using the pandas read csv function to import our dataset\n",
    "df = pd.read_csv(\"C:\\datasets\\listings.csv\")"
   ]
  },
  {
   "cell_type": "code",
   "execution_count": 4,
   "metadata": {},
   "outputs": [
    {
     "name": "stdout",
     "output_type": "stream",
     "text": [
      "<class 'pandas.core.frame.DataFrame'>\n",
      "RangeIndex: 4213 entries, 0 to 4212\n",
      "Data columns (total 16 columns):\n",
      " #   Column                          Non-Null Count  Dtype  \n",
      "---  ------                          --------------  -----  \n",
      " 0   id                              4213 non-null   int64  \n",
      " 1   name                            4213 non-null   object \n",
      " 2   host_id                         4213 non-null   int64  \n",
      " 3   host_name                       4021 non-null   object \n",
      " 4   neighbourhood_group             4213 non-null   object \n",
      " 5   neighbourhood                   4213 non-null   object \n",
      " 6   latitude                        4213 non-null   float64\n",
      " 7   longitude                       4213 non-null   float64\n",
      " 8   room_type                       4213 non-null   object \n",
      " 9   price                           4213 non-null   int64  \n",
      " 10  minimum_nights                  4213 non-null   int64  \n",
      " 11  number_of_reviews               4213 non-null   int64  \n",
      " 12  last_review                     3490 non-null   object \n",
      " 13  reviews_per_month               3490 non-null   float64\n",
      " 14  calculated_host_listings_count  4213 non-null   int64  \n",
      " 15  availability_365                4213 non-null   int64  \n",
      "dtypes: float64(3), int64(7), object(6)\n",
      "memory usage: 526.8+ KB\n"
     ]
    }
   ],
   "source": [
    "#Take a quick look at what our data set looks like\n",
    "df.info()"
   ]
  },
  {
   "cell_type": "code",
   "execution_count": 5,
   "metadata": {},
   "outputs": [
    {
     "data": {
      "text/plain": [
       "(4213, 16)"
      ]
     },
     "execution_count": 5,
     "metadata": {},
     "output_type": "execute_result"
    }
   ],
   "source": [
    "#Rows and columns in the df\n",
    "df.shape"
   ]
  },
  {
   "cell_type": "code",
   "execution_count": 6,
   "metadata": {},
   "outputs": [
    {
     "data": {
      "text/plain": [
       "67408"
      ]
     },
     "execution_count": 6,
     "metadata": {},
     "output_type": "execute_result"
    }
   ],
   "source": [
    "#number of values in the df\n",
    "df.size"
   ]
  },
  {
   "cell_type": "code",
   "execution_count": 7,
   "metadata": {},
   "outputs": [
    {
     "data": {
      "text/html": [
       "<div>\n",
       "<style scoped>\n",
       "    .dataframe tbody tr th:only-of-type {\n",
       "        vertical-align: middle;\n",
       "    }\n",
       "\n",
       "    .dataframe tbody tr th {\n",
       "        vertical-align: top;\n",
       "    }\n",
       "\n",
       "    .dataframe thead th {\n",
       "        text-align: right;\n",
       "    }\n",
       "</style>\n",
       "<table border=\"1\" class=\"dataframe\">\n",
       "  <thead>\n",
       "    <tr style=\"text-align: right;\">\n",
       "      <th></th>\n",
       "      <th>id</th>\n",
       "      <th>host_id</th>\n",
       "      <th>latitude</th>\n",
       "      <th>longitude</th>\n",
       "      <th>price</th>\n",
       "      <th>minimum_nights</th>\n",
       "      <th>number_of_reviews</th>\n",
       "      <th>reviews_per_month</th>\n",
       "      <th>calculated_host_listings_count</th>\n",
       "      <th>availability_365</th>\n",
       "    </tr>\n",
       "  </thead>\n",
       "  <tbody>\n",
       "    <tr>\n",
       "      <th>count</th>\n",
       "      <td>4.213000e+03</td>\n",
       "      <td>4.213000e+03</td>\n",
       "      <td>4213.000000</td>\n",
       "      <td>4213.000000</td>\n",
       "      <td>4213.000000</td>\n",
       "      <td>4213.000000</td>\n",
       "      <td>4213.000000</td>\n",
       "      <td>3490.000000</td>\n",
       "      <td>4213.000000</td>\n",
       "      <td>4213.000000</td>\n",
       "    </tr>\n",
       "    <tr>\n",
       "      <th>mean</th>\n",
       "      <td>2.775722e+07</td>\n",
       "      <td>8.248671e+07</td>\n",
       "      <td>47.625014</td>\n",
       "      <td>-122.334119</td>\n",
       "      <td>134.268217</td>\n",
       "      <td>15.863755</td>\n",
       "      <td>62.299786</td>\n",
       "      <td>1.898146</td>\n",
       "      <td>16.420366</td>\n",
       "      <td>169.132685</td>\n",
       "    </tr>\n",
       "    <tr>\n",
       "      <th>std</th>\n",
       "      <td>1.524790e+07</td>\n",
       "      <td>1.002833e+08</td>\n",
       "      <td>0.046989</td>\n",
       "      <td>0.033067</td>\n",
       "      <td>119.997415</td>\n",
       "      <td>19.342000</td>\n",
       "      <td>92.163157</td>\n",
       "      <td>1.759701</td>\n",
       "      <td>33.418334</td>\n",
       "      <td>127.371810</td>\n",
       "    </tr>\n",
       "    <tr>\n",
       "      <th>min</th>\n",
       "      <td>2.318000e+03</td>\n",
       "      <td>2.536000e+03</td>\n",
       "      <td>47.496210</td>\n",
       "      <td>-122.418760</td>\n",
       "      <td>0.000000</td>\n",
       "      <td>1.000000</td>\n",
       "      <td>0.000000</td>\n",
       "      <td>0.010000</td>\n",
       "      <td>1.000000</td>\n",
       "      <td>0.000000</td>\n",
       "    </tr>\n",
       "    <tr>\n",
       "      <th>25%</th>\n",
       "      <td>1.511665e+07</td>\n",
       "      <td>8.534462e+06</td>\n",
       "      <td>47.604470</td>\n",
       "      <td>-122.355710</td>\n",
       "      <td>78.000000</td>\n",
       "      <td>2.000000</td>\n",
       "      <td>2.000000</td>\n",
       "      <td>0.520000</td>\n",
       "      <td>1.000000</td>\n",
       "      <td>54.000000</td>\n",
       "    </tr>\n",
       "    <tr>\n",
       "      <th>50%</th>\n",
       "      <td>2.822244e+07</td>\n",
       "      <td>3.939669e+07</td>\n",
       "      <td>47.621200</td>\n",
       "      <td>-122.333860</td>\n",
       "      <td>107.000000</td>\n",
       "      <td>4.000000</td>\n",
       "      <td>23.000000</td>\n",
       "      <td>1.380000</td>\n",
       "      <td>2.000000</td>\n",
       "      <td>152.000000</td>\n",
       "    </tr>\n",
       "    <tr>\n",
       "      <th>75%</th>\n",
       "      <td>4.264860e+07</td>\n",
       "      <td>1.157539e+08</td>\n",
       "      <td>47.660610</td>\n",
       "      <td>-122.310660</td>\n",
       "      <td>154.000000</td>\n",
       "      <td>30.000000</td>\n",
       "      <td>85.000000</td>\n",
       "      <td>2.787500</td>\n",
       "      <td>7.000000</td>\n",
       "      <td>292.000000</td>\n",
       "    </tr>\n",
       "    <tr>\n",
       "      <th>max</th>\n",
       "      <td>4.872752e+07</td>\n",
       "      <td>3.913442e+08</td>\n",
       "      <td>47.733990</td>\n",
       "      <td>-122.241980</td>\n",
       "      <td>3858.000000</td>\n",
       "      <td>365.000000</td>\n",
       "      <td>978.000000</td>\n",
       "      <td>12.160000</td>\n",
       "      <td>140.000000</td>\n",
       "      <td>365.000000</td>\n",
       "    </tr>\n",
       "  </tbody>\n",
       "</table>\n",
       "</div>"
      ],
      "text/plain": [
       "                 id       host_id     latitude    longitude        price  \\\n",
       "count  4.213000e+03  4.213000e+03  4213.000000  4213.000000  4213.000000   \n",
       "mean   2.775722e+07  8.248671e+07    47.625014  -122.334119   134.268217   \n",
       "std    1.524790e+07  1.002833e+08     0.046989     0.033067   119.997415   \n",
       "min    2.318000e+03  2.536000e+03    47.496210  -122.418760     0.000000   \n",
       "25%    1.511665e+07  8.534462e+06    47.604470  -122.355710    78.000000   \n",
       "50%    2.822244e+07  3.939669e+07    47.621200  -122.333860   107.000000   \n",
       "75%    4.264860e+07  1.157539e+08    47.660610  -122.310660   154.000000   \n",
       "max    4.872752e+07  3.913442e+08    47.733990  -122.241980  3858.000000   \n",
       "\n",
       "       minimum_nights  number_of_reviews  reviews_per_month  \\\n",
       "count     4213.000000        4213.000000        3490.000000   \n",
       "mean        15.863755          62.299786           1.898146   \n",
       "std         19.342000          92.163157           1.759701   \n",
       "min          1.000000           0.000000           0.010000   \n",
       "25%          2.000000           2.000000           0.520000   \n",
       "50%          4.000000          23.000000           1.380000   \n",
       "75%         30.000000          85.000000           2.787500   \n",
       "max        365.000000         978.000000          12.160000   \n",
       "\n",
       "       calculated_host_listings_count  availability_365  \n",
       "count                     4213.000000       4213.000000  \n",
       "mean                        16.420366        169.132685  \n",
       "std                         33.418334        127.371810  \n",
       "min                          1.000000          0.000000  \n",
       "25%                          1.000000         54.000000  \n",
       "50%                          2.000000        152.000000  \n",
       "75%                          7.000000        292.000000  \n",
       "max                        140.000000        365.000000  "
      ]
     },
     "execution_count": 7,
     "metadata": {},
     "output_type": "execute_result"
    }
   ],
   "source": [
    "#summary statistics\n",
    "df.describe()"
   ]
  },
  {
   "cell_type": "code",
   "execution_count": 8,
   "metadata": {},
   "outputs": [
    {
     "data": {
      "text/html": [
       "<div>\n",
       "<style scoped>\n",
       "    .dataframe tbody tr th:only-of-type {\n",
       "        vertical-align: middle;\n",
       "    }\n",
       "\n",
       "    .dataframe tbody tr th {\n",
       "        vertical-align: top;\n",
       "    }\n",
       "\n",
       "    .dataframe thead th {\n",
       "        text-align: right;\n",
       "    }\n",
       "</style>\n",
       "<table border=\"1\" class=\"dataframe\">\n",
       "  <thead>\n",
       "    <tr style=\"text-align: right;\">\n",
       "      <th></th>\n",
       "      <th>id</th>\n",
       "      <th>host_id</th>\n",
       "      <th>latitude</th>\n",
       "      <th>longitude</th>\n",
       "      <th>price</th>\n",
       "      <th>minimum_nights</th>\n",
       "      <th>number_of_reviews</th>\n",
       "      <th>reviews_per_month</th>\n",
       "      <th>calculated_host_listings_count</th>\n",
       "      <th>availability_365</th>\n",
       "    </tr>\n",
       "  </thead>\n",
       "  <tbody>\n",
       "    <tr>\n",
       "      <th>id</th>\n",
       "      <td>1.000000</td>\n",
       "      <td>0.452458</td>\n",
       "      <td>-0.111295</td>\n",
       "      <td>0.015984</td>\n",
       "      <td>-0.019800</td>\n",
       "      <td>0.016576</td>\n",
       "      <td>-0.558131</td>\n",
       "      <td>-0.053653</td>\n",
       "      <td>0.358158</td>\n",
       "      <td>-0.033465</td>\n",
       "    </tr>\n",
       "    <tr>\n",
       "      <th>host_id</th>\n",
       "      <td>0.452458</td>\n",
       "      <td>1.000000</td>\n",
       "      <td>-0.053764</td>\n",
       "      <td>-0.002813</td>\n",
       "      <td>0.029564</td>\n",
       "      <td>0.059231</td>\n",
       "      <td>-0.241378</td>\n",
       "      <td>-0.003195</td>\n",
       "      <td>0.079549</td>\n",
       "      <td>0.073660</td>\n",
       "    </tr>\n",
       "    <tr>\n",
       "      <th>latitude</th>\n",
       "      <td>-0.111295</td>\n",
       "      <td>-0.053764</td>\n",
       "      <td>1.000000</td>\n",
       "      <td>-0.134697</td>\n",
       "      <td>0.021892</td>\n",
       "      <td>0.050049</td>\n",
       "      <td>0.035875</td>\n",
       "      <td>-0.037429</td>\n",
       "      <td>-0.045775</td>\n",
       "      <td>0.005415</td>\n",
       "    </tr>\n",
       "    <tr>\n",
       "      <th>longitude</th>\n",
       "      <td>0.015984</td>\n",
       "      <td>-0.002813</td>\n",
       "      <td>-0.134697</td>\n",
       "      <td>1.000000</td>\n",
       "      <td>-0.081257</td>\n",
       "      <td>0.016866</td>\n",
       "      <td>-0.043966</td>\n",
       "      <td>-0.050525</td>\n",
       "      <td>0.036903</td>\n",
       "      <td>0.012367</td>\n",
       "    </tr>\n",
       "    <tr>\n",
       "      <th>price</th>\n",
       "      <td>-0.019800</td>\n",
       "      <td>0.029564</td>\n",
       "      <td>0.021892</td>\n",
       "      <td>-0.081257</td>\n",
       "      <td>1.000000</td>\n",
       "      <td>0.007645</td>\n",
       "      <td>-0.108919</td>\n",
       "      <td>-0.155569</td>\n",
       "      <td>0.019099</td>\n",
       "      <td>0.066522</td>\n",
       "    </tr>\n",
       "    <tr>\n",
       "      <th>minimum_nights</th>\n",
       "      <td>0.016576</td>\n",
       "      <td>0.059231</td>\n",
       "      <td>0.050049</td>\n",
       "      <td>0.016866</td>\n",
       "      <td>0.007645</td>\n",
       "      <td>1.000000</td>\n",
       "      <td>-0.221402</td>\n",
       "      <td>-0.341496</td>\n",
       "      <td>0.271925</td>\n",
       "      <td>0.145852</td>\n",
       "    </tr>\n",
       "    <tr>\n",
       "      <th>number_of_reviews</th>\n",
       "      <td>-0.558131</td>\n",
       "      <td>-0.241378</td>\n",
       "      <td>0.035875</td>\n",
       "      <td>-0.043966</td>\n",
       "      <td>-0.108919</td>\n",
       "      <td>-0.221402</td>\n",
       "      <td>1.000000</td>\n",
       "      <td>0.751584</td>\n",
       "      <td>-0.269440</td>\n",
       "      <td>-0.050220</td>\n",
       "    </tr>\n",
       "    <tr>\n",
       "      <th>reviews_per_month</th>\n",
       "      <td>-0.053653</td>\n",
       "      <td>-0.003195</td>\n",
       "      <td>-0.037429</td>\n",
       "      <td>-0.050525</td>\n",
       "      <td>-0.155569</td>\n",
       "      <td>-0.341496</td>\n",
       "      <td>0.751584</td>\n",
       "      <td>1.000000</td>\n",
       "      <td>-0.247023</td>\n",
       "      <td>-0.084510</td>\n",
       "    </tr>\n",
       "    <tr>\n",
       "      <th>calculated_host_listings_count</th>\n",
       "      <td>0.358158</td>\n",
       "      <td>0.079549</td>\n",
       "      <td>-0.045775</td>\n",
       "      <td>0.036903</td>\n",
       "      <td>0.019099</td>\n",
       "      <td>0.271925</td>\n",
       "      <td>-0.269440</td>\n",
       "      <td>-0.247023</td>\n",
       "      <td>1.000000</td>\n",
       "      <td>0.172565</td>\n",
       "    </tr>\n",
       "    <tr>\n",
       "      <th>availability_365</th>\n",
       "      <td>-0.033465</td>\n",
       "      <td>0.073660</td>\n",
       "      <td>0.005415</td>\n",
       "      <td>0.012367</td>\n",
       "      <td>0.066522</td>\n",
       "      <td>0.145852</td>\n",
       "      <td>-0.050220</td>\n",
       "      <td>-0.084510</td>\n",
       "      <td>0.172565</td>\n",
       "      <td>1.000000</td>\n",
       "    </tr>\n",
       "  </tbody>\n",
       "</table>\n",
       "</div>"
      ],
      "text/plain": [
       "                                      id   host_id  latitude  longitude  \\\n",
       "id                              1.000000  0.452458 -0.111295   0.015984   \n",
       "host_id                         0.452458  1.000000 -0.053764  -0.002813   \n",
       "latitude                       -0.111295 -0.053764  1.000000  -0.134697   \n",
       "longitude                       0.015984 -0.002813 -0.134697   1.000000   \n",
       "price                          -0.019800  0.029564  0.021892  -0.081257   \n",
       "minimum_nights                  0.016576  0.059231  0.050049   0.016866   \n",
       "number_of_reviews              -0.558131 -0.241378  0.035875  -0.043966   \n",
       "reviews_per_month              -0.053653 -0.003195 -0.037429  -0.050525   \n",
       "calculated_host_listings_count  0.358158  0.079549 -0.045775   0.036903   \n",
       "availability_365               -0.033465  0.073660  0.005415   0.012367   \n",
       "\n",
       "                                   price  minimum_nights  number_of_reviews  \\\n",
       "id                             -0.019800        0.016576          -0.558131   \n",
       "host_id                         0.029564        0.059231          -0.241378   \n",
       "latitude                        0.021892        0.050049           0.035875   \n",
       "longitude                      -0.081257        0.016866          -0.043966   \n",
       "price                           1.000000        0.007645          -0.108919   \n",
       "minimum_nights                  0.007645        1.000000          -0.221402   \n",
       "number_of_reviews              -0.108919       -0.221402           1.000000   \n",
       "reviews_per_month              -0.155569       -0.341496           0.751584   \n",
       "calculated_host_listings_count  0.019099        0.271925          -0.269440   \n",
       "availability_365                0.066522        0.145852          -0.050220   \n",
       "\n",
       "                                reviews_per_month  \\\n",
       "id                                      -0.053653   \n",
       "host_id                                 -0.003195   \n",
       "latitude                                -0.037429   \n",
       "longitude                               -0.050525   \n",
       "price                                   -0.155569   \n",
       "minimum_nights                          -0.341496   \n",
       "number_of_reviews                        0.751584   \n",
       "reviews_per_month                        1.000000   \n",
       "calculated_host_listings_count          -0.247023   \n",
       "availability_365                        -0.084510   \n",
       "\n",
       "                                calculated_host_listings_count  \\\n",
       "id                                                    0.358158   \n",
       "host_id                                               0.079549   \n",
       "latitude                                             -0.045775   \n",
       "longitude                                             0.036903   \n",
       "price                                                 0.019099   \n",
       "minimum_nights                                        0.271925   \n",
       "number_of_reviews                                    -0.269440   \n",
       "reviews_per_month                                    -0.247023   \n",
       "calculated_host_listings_count                        1.000000   \n",
       "availability_365                                      0.172565   \n",
       "\n",
       "                                availability_365  \n",
       "id                                     -0.033465  \n",
       "host_id                                 0.073660  \n",
       "latitude                                0.005415  \n",
       "longitude                               0.012367  \n",
       "price                                   0.066522  \n",
       "minimum_nights                          0.145852  \n",
       "number_of_reviews                      -0.050220  \n",
       "reviews_per_month                      -0.084510  \n",
       "calculated_host_listings_count          0.172565  \n",
       "availability_365                        1.000000  "
      ]
     },
     "execution_count": 8,
     "metadata": {},
     "output_type": "execute_result"
    }
   ],
   "source": [
    "#correlation matrix\n",
    "#We can see a negative correlation between our main \n",
    "#explanatory varaible reviews_per_month and \n",
    "#the outcome variable price\n",
    "df.corr()"
   ]
  },
  {
   "cell_type": "code",
   "execution_count": 9,
   "metadata": {},
   "outputs": [],
   "source": [
    "#We want to look at price as our outcome variable; reviews per month as our main explanatory variable; \n",
    "#minimum nights, availability, latitude, longitude, calculated_host_listings_count as our controls;"
   ]
  },
  {
   "cell_type": "code",
   "execution_count": 10,
   "metadata": {},
   "outputs": [],
   "source": [
    "#Start some data cleaning:"
   ]
  },
  {
   "cell_type": "code",
   "execution_count": 11,
   "metadata": {},
   "outputs": [
    {
     "data": {
      "text/plain": [
       "723"
      ]
     },
     "execution_count": 11,
     "metadata": {},
     "output_type": "execute_result"
    }
   ],
   "source": [
    "#Count the number of missing values in our main explanitory variable column.  We also know this from our describe method\n",
    "df['reviews_per_month'].isna().sum()"
   ]
  },
  {
   "cell_type": "code",
   "execution_count": 12,
   "metadata": {},
   "outputs": [
    {
     "data": {
      "image/png": "[encoded data removed]",
      "text/plain": [
       "<Figure size 432x288 with 2 Axes>"
      ]
     },
     "metadata": {
      "needs_background": "light"
     },
     "output_type": "display_data"
    }
   ],
   "source": [
    "#heat map for missing values\n",
    "cols=df.columns\n",
    "sns.heatmap(df[cols].isnull(), cmap=sns.color_palette(palette='colorblind')) \n",
    "plt.show()\n"
   ]
  },
  {
   "cell_type": "code",
   "execution_count": 13,
   "metadata": {},
   "outputs": [
    {
     "name": "stdout",
     "output_type": "stream",
     "text": [
      "<class 'pandas.core.frame.DataFrame'>\n",
      "RangeIndex: 4213 entries, 0 to 4212\n",
      "Data columns (total 16 columns):\n",
      " #   Column                          Non-Null Count  Dtype  \n",
      "---  ------                          --------------  -----  \n",
      " 0   id                              4213 non-null   int64  \n",
      " 1   name                            4213 non-null   object \n",
      " 2   host_id                         4213 non-null   int64  \n",
      " 3   host_name                       4021 non-null   object \n",
      " 4   neighbourhood_group             4213 non-null   object \n",
      " 5   neighbourhood                   4213 non-null   object \n",
      " 6   latitude                        4213 non-null   float64\n",
      " 7   longitude                       4213 non-null   float64\n",
      " 8   room_type                       4213 non-null   object \n",
      " 9   price                           4213 non-null   int64  \n",
      " 10  minimum_nights                  4213 non-null   int64  \n",
      " 11  number_of_reviews               4213 non-null   int64  \n",
      " 12  last_review                     3490 non-null   object \n",
      " 13  reviews_per_month               4213 non-null   float64\n",
      " 14  calculated_host_listings_count  4213 non-null   int64  \n",
      " 15  availability_365                4213 non-null   int64  \n",
      "dtypes: float64(3), int64(7), object(6)\n",
      "memory usage: 526.8+ KB\n"
     ]
    }
   ],
   "source": [
    "#In this case we will use mean value imputation to fill the missing  values\n",
    "#Assign the imputed data set to new frame df1 so that the original data frame df is preserved\n",
    "df1 = df.fillna(df.mean())\n",
    "df1.info()"
   ]
  },
  {
   "cell_type": "code",
   "execution_count": 14,
   "metadata": {},
   "outputs": [
    {
     "data": {
      "text/plain": [
       "count    4213.000000\n",
       "mean      134.268217\n",
       "std       119.997415\n",
       "min         0.000000\n",
       "25%        78.000000\n",
       "50%       107.000000\n",
       "75%       154.000000\n",
       "max      3858.000000\n",
       "Name: price, dtype: float64"
      ]
     },
     "execution_count": 14,
     "metadata": {},
     "output_type": "execute_result"
    }
   ],
   "source": [
    "#Show the summary statistics for our outcome variable price\n",
    "df1.price.describe()"
   ]
  },
  {
   "cell_type": "code",
   "execution_count": 15,
   "metadata": {},
   "outputs": [
    {
     "data": {
      "image/png": "[encoded data removed]",
      "text/plain": [
       "<Figure size 432x288 with 1 Axes>"
      ]
     },
     "metadata": {
      "needs_background": "light"
     },
     "output_type": "display_data"
    }
   ],
   "source": [
    "#Create a box plot of out outcome variable price.  We see that there are a lot of outliers.  All outliers are on the more expensive side\n",
    "sns.boxplot(data=df1,x='price')\n",
    "plt.show()\n"
   ]
  },
  {
   "cell_type": "code",
   "execution_count": 16,
   "metadata": {},
   "outputs": [
    {
     "data": {
      "text/plain": [
       "count    4213.000000\n",
       "mean        1.898146\n",
       "std         1.601567\n",
       "min         0.010000\n",
       "25%         0.660000\n",
       "50%         1.870000\n",
       "75%         2.430000\n",
       "max        12.160000\n",
       "Name: reviews_per_month, dtype: float64"
      ]
     },
     "execution_count": 16,
     "metadata": {},
     "output_type": "execute_result"
    }
   ],
   "source": [
    "#Show the summary statistics for our main explanatory variable price\n",
    "df1.reviews_per_month.describe()"
   ]
  },
  {
   "cell_type": "code",
   "execution_count": 17,
   "metadata": {},
   "outputs": [
    {
     "data": {
      "image/png": "[encoded data removed]",
      "text/plain": [
       "<Figure size 432x288 with 1 Axes>"
      ]
     },
     "metadata": {
      "needs_background": "light"
     },
     "output_type": "display_data"
    }
   ],
   "source": [
    "#Create a box plot of our main explanatory variable price.  We see that there are a lot of outliers.  All outliers are on the max side\n",
    "#This shows that the variable is skewed right\n",
    "sns.boxplot(data=df1,x='reviews_per_month')\n",
    "plt.show()"
   ]
  },
  {
   "cell_type": "code",
   "execution_count": 18,
   "metadata": {},
   "outputs": [],
   "source": [
    "#Create a further refined data frame with all duplicate values dropped\n",
    "df2 = df1.drop('id', axis=1).drop_duplicates()"
   ]
  },
  {
   "cell_type": "code",
   "execution_count": 19,
   "metadata": {},
   "outputs": [
    {
     "data": {
      "text/plain": [
       "(4213, 16)"
      ]
     },
     "execution_count": 19,
     "metadata": {},
     "output_type": "execute_result"
    }
   ],
   "source": [
    "#compare the shape of df1 and df2 to see how many duplicate records were dropped\n",
    "df1.shape"
   ]
  },
  {
   "cell_type": "code",
   "execution_count": 20,
   "metadata": {},
   "outputs": [
    {
     "data": {
      "text/plain": [
       "(4207, 15)"
      ]
     },
     "execution_count": 20,
     "metadata": {},
     "output_type": "execute_result"
    }
   ],
   "source": [
    "#We see there were 6 duplicate rows even though id is supposed to be unique\n",
    "df2.shape"
   ]
  },
  {
   "cell_type": "code",
   "execution_count": 21,
   "metadata": {},
   "outputs": [
    {
     "data": {
      "text/html": [
       "<div>\n",
       "<style scoped>\n",
       "    .dataframe tbody tr th:only-of-type {\n",
       "        vertical-align: middle;\n",
       "    }\n",
       "\n",
       "    .dataframe tbody tr th {\n",
       "        vertical-align: top;\n",
       "    }\n",
       "\n",
       "    .dataframe thead th {\n",
       "        text-align: right;\n",
       "    }\n",
       "</style>\n",
       "<table border=\"1\" class=\"dataframe\">\n",
       "  <thead>\n",
       "    <tr style=\"text-align: right;\">\n",
       "      <th></th>\n",
       "      <th>host_id</th>\n",
       "      <th>latitude</th>\n",
       "      <th>longitude</th>\n",
       "      <th>price</th>\n",
       "      <th>minimum_nights</th>\n",
       "      <th>number_of_reviews</th>\n",
       "      <th>reviews_per_month</th>\n",
       "      <th>calculated_host_listings_count</th>\n",
       "      <th>availability_365</th>\n",
       "    </tr>\n",
       "  </thead>\n",
       "  <tbody>\n",
       "    <tr>\n",
       "      <th>host_id</th>\n",
       "      <td>1.000000</td>\n",
       "      <td>-0.053433</td>\n",
       "      <td>-0.001877</td>\n",
       "      <td>0.029237</td>\n",
       "      <td>0.048831</td>\n",
       "      <td>-0.240102</td>\n",
       "      <td>-0.002534</td>\n",
       "      <td>0.070851</td>\n",
       "      <td>0.068239</td>\n",
       "    </tr>\n",
       "    <tr>\n",
       "      <th>latitude</th>\n",
       "      <td>-0.053433</td>\n",
       "      <td>1.000000</td>\n",
       "      <td>-0.134759</td>\n",
       "      <td>0.021899</td>\n",
       "      <td>0.051189</td>\n",
       "      <td>0.035734</td>\n",
       "      <td>-0.035200</td>\n",
       "      <td>-0.045422</td>\n",
       "      <td>0.005763</td>\n",
       "    </tr>\n",
       "    <tr>\n",
       "      <th>longitude</th>\n",
       "      <td>-0.001877</td>\n",
       "      <td>-0.134759</td>\n",
       "      <td>1.000000</td>\n",
       "      <td>-0.081273</td>\n",
       "      <td>0.017770</td>\n",
       "      <td>-0.044216</td>\n",
       "      <td>-0.047544</td>\n",
       "      <td>0.037877</td>\n",
       "      <td>0.012903</td>\n",
       "    </tr>\n",
       "    <tr>\n",
       "      <th>price</th>\n",
       "      <td>0.029237</td>\n",
       "      <td>0.021899</td>\n",
       "      <td>-0.081273</td>\n",
       "      <td>1.000000</td>\n",
       "      <td>0.007626</td>\n",
       "      <td>-0.108844</td>\n",
       "      <td>-0.123658</td>\n",
       "      <td>0.018755</td>\n",
       "      <td>0.066368</td>\n",
       "    </tr>\n",
       "    <tr>\n",
       "      <th>minimum_nights</th>\n",
       "      <td>0.048831</td>\n",
       "      <td>0.051189</td>\n",
       "      <td>0.017770</td>\n",
       "      <td>0.007626</td>\n",
       "      <td>1.000000</td>\n",
       "      <td>-0.220347</td>\n",
       "      <td>-0.260134</td>\n",
       "      <td>0.265379</td>\n",
       "      <td>0.141099</td>\n",
       "    </tr>\n",
       "    <tr>\n",
       "      <th>number_of_reviews</th>\n",
       "      <td>-0.240102</td>\n",
       "      <td>0.035734</td>\n",
       "      <td>-0.044216</td>\n",
       "      <td>-0.108844</td>\n",
       "      <td>-0.220347</td>\n",
       "      <td>1.000000</td>\n",
       "      <td>0.715351</td>\n",
       "      <td>-0.268318</td>\n",
       "      <td>-0.048868</td>\n",
       "    </tr>\n",
       "    <tr>\n",
       "      <th>reviews_per_month</th>\n",
       "      <td>-0.002534</td>\n",
       "      <td>-0.035200</td>\n",
       "      <td>-0.047544</td>\n",
       "      <td>-0.123658</td>\n",
       "      <td>-0.260134</td>\n",
       "      <td>0.715351</td>\n",
       "      <td>1.000000</td>\n",
       "      <td>-0.135345</td>\n",
       "      <td>-0.074829</td>\n",
       "    </tr>\n",
       "    <tr>\n",
       "      <th>calculated_host_listings_count</th>\n",
       "      <td>0.070851</td>\n",
       "      <td>-0.045422</td>\n",
       "      <td>0.037877</td>\n",
       "      <td>0.018755</td>\n",
       "      <td>0.265379</td>\n",
       "      <td>-0.268318</td>\n",
       "      <td>-0.135345</td>\n",
       "      <td>1.000000</td>\n",
       "      <td>0.168422</td>\n",
       "    </tr>\n",
       "    <tr>\n",
       "      <th>availability_365</th>\n",
       "      <td>0.068239</td>\n",
       "      <td>0.005763</td>\n",
       "      <td>0.012903</td>\n",
       "      <td>0.066368</td>\n",
       "      <td>0.141099</td>\n",
       "      <td>-0.048868</td>\n",
       "      <td>-0.074829</td>\n",
       "      <td>0.168422</td>\n",
       "      <td>1.000000</td>\n",
       "    </tr>\n",
       "  </tbody>\n",
       "</table>\n",
       "</div>"
      ],
      "text/plain": [
       "                                 host_id  latitude  longitude     price  \\\n",
       "host_id                         1.000000 -0.053433  -0.001877  0.029237   \n",
       "latitude                       -0.053433  1.000000  -0.134759  0.021899   \n",
       "longitude                      -0.001877 -0.134759   1.000000 -0.081273   \n",
       "price                           0.029237  0.021899  -0.081273  1.000000   \n",
       "minimum_nights                  0.048831  0.051189   0.017770  0.007626   \n",
       "number_of_reviews              -0.240102  0.035734  -0.044216 -0.108844   \n",
       "reviews_per_month              -0.002534 -0.035200  -0.047544 -0.123658   \n",
       "calculated_host_listings_count  0.070851 -0.045422   0.037877  0.018755   \n",
       "availability_365                0.068239  0.005763   0.012903  0.066368   \n",
       "\n",
       "                                minimum_nights  number_of_reviews  \\\n",
       "host_id                               0.048831          -0.240102   \n",
       "latitude                              0.051189           0.035734   \n",
       "longitude                             0.017770          -0.044216   \n",
       "price                                 0.007626          -0.108844   \n",
       "minimum_nights                        1.000000          -0.220347   \n",
       "number_of_reviews                    -0.220347           1.000000   \n",
       "reviews_per_month                    -0.260134           0.715351   \n",
       "calculated_host_listings_count        0.265379          -0.268318   \n",
       "availability_365                      0.141099          -0.048868   \n",
       "\n",
       "                                reviews_per_month  \\\n",
       "host_id                                 -0.002534   \n",
       "latitude                                -0.035200   \n",
       "longitude                               -0.047544   \n",
       "price                                   -0.123658   \n",
       "minimum_nights                          -0.260134   \n",
       "number_of_reviews                        0.715351   \n",
       "reviews_per_month                        1.000000   \n",
       "calculated_host_listings_count          -0.135345   \n",
       "availability_365                        -0.074829   \n",
       "\n",
       "                                calculated_host_listings_count  \\\n",
       "host_id                                               0.070851   \n",
       "latitude                                             -0.045422   \n",
       "longitude                                             0.037877   \n",
       "price                                                 0.018755   \n",
       "minimum_nights                                        0.265379   \n",
       "number_of_reviews                                    -0.268318   \n",
       "reviews_per_month                                    -0.135345   \n",
       "calculated_host_listings_count                        1.000000   \n",
       "availability_365                                      0.168422   \n",
       "\n",
       "                                availability_365  \n",
       "host_id                                 0.068239  \n",
       "latitude                                0.005763  \n",
       "longitude                               0.012903  \n",
       "price                                   0.066368  \n",
       "minimum_nights                          0.141099  \n",
       "number_of_reviews                      -0.048868  \n",
       "reviews_per_month                      -0.074829  \n",
       "calculated_host_listings_count          0.168422  \n",
       "availability_365                        1.000000  "
      ]
     },
     "execution_count": 21,
     "metadata": {},
     "output_type": "execute_result"
    }
   ],
   "source": [
    "#Correlation matrix again, but now with our clean data\n",
    "#Negative correlation between our outcome and explanatory variable still exists\n",
    "df2.corr()"
   ]
  },
  {
   "cell_type": "code",
   "execution_count": 22,
   "metadata": {},
   "outputs": [
    {
     "data": {
      "text/plain": [
       "<seaborn.axisgrid.FacetGrid at 0x265987992e0>"
      ]
     },
     "execution_count": 22,
     "metadata": {},
     "output_type": "execute_result"
    },
    {
     "data": {
      "image/png": "[encoded data removed]",
      "text/plain": [
       "<Figure size 360x360 with 1 Axes>"
      ]
     },
     "metadata": {
      "needs_background": "light"
     },
     "output_type": "display_data"
    }
   ],
   "source": [
    "#Visualize the distribution of our outcome variable price\n",
    "sns.displot(data=df2, x=\"price\",bins=50,kde=True)"
   ]
  },
  {
   "cell_type": "code",
   "execution_count": 23,
   "metadata": {},
   "outputs": [
    {
     "data": {
      "text/plain": [
       "<seaborn.axisgrid.FacetGrid at 0x26598426790>"
      ]
     },
     "execution_count": 23,
     "metadata": {},
     "output_type": "execute_result"
    },
    {
     "data": {
      "image/png": "[encoded data removed]",
      "text/plain": [
       "<Figure size 360x360 with 1 Axes>"
      ]
     },
     "metadata": {
      "needs_background": "light"
     },
     "output_type": "display_data"
    }
   ],
   "source": [
    "#Visualize the distribution of main explanatory variable reviews per month\n",
    "sns.displot(data=df2, x=\"reviews_per_month\",bins=50,kde=True)"
   ]
  },
  {
   "cell_type": "code",
   "execution_count": 24,
   "metadata": {},
   "outputs": [],
   "source": [
    "#creating the OLS models with our variables of interest using df2 as our most refined df\n",
    "model1 = smf.ols('price ~ reviews_per_month', data = df2)\n",
    "model2 = smf.ols('price ~ reviews_per_month + minimum_nights', data = df2)\n",
    "model3 = smf.ols('price ~ reviews_per_month + minimum_nights + latitude', data = df2)\n",
    "model4 = smf.ols('price ~ reviews_per_month + minimum_nights + latitude + longitude', data = df2)\n",
    "model5 = smf.ols('price ~ reviews_per_month + minimum_nights + latitude + longitude + availability_365', data = df2)\n",
    "model6 = smf.ols('price ~ reviews_per_month + minimum_nights + latitude + longitude + availability_365 + calculated_host_listings_count', data = df2)\n"
   ]
  },
  {
   "cell_type": "code",
   "execution_count": 25,
   "metadata": {},
   "outputs": [],
   "source": [
    "#estimate the model\n",
    "results1 =model1.fit()\n",
    "results2 =model2.fit()\n",
    "results3 =model3.fit()\n",
    "results4 =model4.fit()\n",
    "results5 =model5.fit()\n",
    "results6 =model6.fit()"
   ]
  },
  {
   "cell_type": "code",
   "execution_count": 26,
   "metadata": {},
   "outputs": [
    {
     "data": {
      "text/html": [
       "<table class=\"simpletable\">\n",
       "<caption>OLS Regression Results</caption>\n",
       "<tr>\n",
       "  <th>Dep. Variable:</th>          <td>price</td>      <th>  R-squared:         </th> <td>   0.015</td> \n",
       "</tr>\n",
       "<tr>\n",
       "  <th>Model:</th>                   <td>OLS</td>       <th>  Adj. R-squared:    </th> <td>   0.015</td> \n",
       "</tr>\n",
       "<tr>\n",
       "  <th>Method:</th>             <td>Least Squares</td>  <th>  F-statistic:       </th> <td>   65.30</td> \n",
       "</tr>\n",
       "<tr>\n",
       "  <th>Date:</th>             <td>Mon, 24 May 2021</td> <th>  Prob (F-statistic):</th> <td>8.34e-16</td> \n",
       "</tr>\n",
       "<tr>\n",
       "  <th>Time:</th>                 <td>14:57:07</td>     <th>  Log-Likelihood:    </th> <td> -26080.</td> \n",
       "</tr>\n",
       "<tr>\n",
       "  <th>No. Observations:</th>      <td>  4207</td>      <th>  AIC:               </th> <td>5.216e+04</td>\n",
       "</tr>\n",
       "<tr>\n",
       "  <th>Df Residuals:</th>          <td>  4205</td>      <th>  BIC:               </th> <td>5.218e+04</td>\n",
       "</tr>\n",
       "<tr>\n",
       "  <th>Df Model:</th>              <td>     1</td>      <th>                     </th>     <td> </td>    \n",
       "</tr>\n",
       "<tr>\n",
       "  <th>Covariance Type:</th>      <td>nonrobust</td>    <th>                     </th>     <td> </td>    \n",
       "</tr>\n",
       "</table>\n",
       "<table class=\"simpletable\">\n",
       "<tr>\n",
       "          <td></td>             <th>coef</th>     <th>std err</th>      <th>t</th>      <th>P>|t|</th>  <th>[0.025</th>    <th>0.975]</th>  \n",
       "</tr>\n",
       "<tr>\n",
       "  <th>Intercept</th>         <td>  151.8319</td> <td>    2.848</td> <td>   53.312</td> <td> 0.000</td> <td>  146.248</td> <td>  157.415</td>\n",
       "</tr>\n",
       "<tr>\n",
       "  <th>reviews_per_month</th> <td>   -9.2642</td> <td>    1.146</td> <td>   -8.081</td> <td> 0.000</td> <td>  -11.512</td> <td>   -7.017</td>\n",
       "</tr>\n",
       "</table>\n",
       "<table class=\"simpletable\">\n",
       "<tr>\n",
       "  <th>Omnibus:</th>       <td>6728.400</td> <th>  Durbin-Watson:     </th>   <td>   1.901</td>  \n",
       "</tr>\n",
       "<tr>\n",
       "  <th>Prob(Omnibus):</th>  <td> 0.000</td>  <th>  Jarque-Bera (JB):  </th> <td>10251183.235</td>\n",
       "</tr>\n",
       "<tr>\n",
       "  <th>Skew:</th>           <td> 9.899</td>  <th>  Prob(JB):          </th>   <td>    0.00</td>  \n",
       "</tr>\n",
       "<tr>\n",
       "  <th>Kurtosis:</th>       <td>244.016</td> <th>  Cond. No.          </th>   <td>    4.24</td>  \n",
       "</tr>\n",
       "</table><br/><br/>Notes:<br/>[1] Standard Errors assume that the covariance matrix of the errors is correctly specified."
      ],
      "text/plain": [
       "<class 'statsmodels.iolib.summary.Summary'>\n",
       "\"\"\"\n",
       "                            OLS Regression Results                            \n",
       "==============================================================================\n",
       "Dep. Variable:                  price   R-squared:                       0.015\n",
       "Model:                            OLS   Adj. R-squared:                  0.015\n",
       "Method:                 Least Squares   F-statistic:                     65.30\n",
       "Date:                Mon, 24 May 2021   Prob (F-statistic):           8.34e-16\n",
       "Time:                        14:57:07   Log-Likelihood:                -26080.\n",
       "No. Observations:                4207   AIC:                         5.216e+04\n",
       "Df Residuals:                    4205   BIC:                         5.218e+04\n",
       "Df Model:                           1                                         \n",
       "Covariance Type:            nonrobust                                         \n",
       "=====================================================================================\n",
       "                        coef    std err          t      P>|t|      [0.025      0.975]\n",
       "-------------------------------------------------------------------------------------\n",
       "Intercept           151.8319      2.848     53.312      0.000     146.248     157.415\n",
       "reviews_per_month    -9.2642      1.146     -8.081      0.000     -11.512      -7.017\n",
       "==============================================================================\n",
       "Omnibus:                     6728.400   Durbin-Watson:                   1.901\n",
       "Prob(Omnibus):                  0.000   Jarque-Bera (JB):         10251183.235\n",
       "Skew:                           9.899   Prob(JB):                         0.00\n",
       "Kurtosis:                     244.016   Cond. No.                         4.24\n",
       "==============================================================================\n",
       "\n",
       "Notes:\n",
       "[1] Standard Errors assume that the covariance matrix of the errors is correctly specified.\n",
       "\"\"\""
      ]
     },
     "execution_count": 26,
     "metadata": {},
     "output_type": "execute_result"
    }
   ],
   "source": [
    "#print the results\n",
    "results1.summary()"
   ]
  },
  {
   "cell_type": "code",
   "execution_count": 27,
   "metadata": {},
   "outputs": [
    {
     "data": {
      "text/html": [
       "<table class=\"simpletable\">\n",
       "<caption>OLS Regression Results</caption>\n",
       "<tr>\n",
       "  <th>Dep. Variable:</th>          <td>price</td>      <th>  R-squared:         </th> <td>   0.016</td> \n",
       "</tr>\n",
       "<tr>\n",
       "  <th>Model:</th>                   <td>OLS</td>       <th>  Adj. R-squared:    </th> <td>   0.015</td> \n",
       "</tr>\n",
       "<tr>\n",
       "  <th>Method:</th>             <td>Least Squares</td>  <th>  F-statistic:       </th> <td>   34.04</td> \n",
       "</tr>\n",
       "<tr>\n",
       "  <th>Date:</th>             <td>Mon, 24 May 2021</td> <th>  Prob (F-statistic):</th> <td>2.16e-15</td> \n",
       "</tr>\n",
       "<tr>\n",
       "  <th>Time:</th>                 <td>14:57:07</td>     <th>  Log-Likelihood:    </th> <td> -26079.</td> \n",
       "</tr>\n",
       "<tr>\n",
       "  <th>No. Observations:</th>      <td>  4207</td>      <th>  AIC:               </th> <td>5.216e+04</td>\n",
       "</tr>\n",
       "<tr>\n",
       "  <th>Df Residuals:</th>          <td>  4204</td>      <th>  BIC:               </th> <td>5.218e+04</td>\n",
       "</tr>\n",
       "<tr>\n",
       "  <th>Df Model:</th>              <td>     2</td>      <th>                     </th>     <td> </td>    \n",
       "</tr>\n",
       "<tr>\n",
       "  <th>Covariance Type:</th>      <td>nonrobust</td>    <th>                     </th>     <td> </td>    \n",
       "</tr>\n",
       "</table>\n",
       "<table class=\"simpletable\">\n",
       "<tr>\n",
       "          <td></td>             <th>coef</th>     <th>std err</th>      <th>t</th>      <th>P>|t|</th>  <th>[0.025</th>    <th>0.975]</th>  \n",
       "</tr>\n",
       "<tr>\n",
       "  <th>Intercept</th>         <td>  155.4020</td> <td>    3.567</td> <td>   43.562</td> <td> 0.000</td> <td>  148.408</td> <td>  162.396</td>\n",
       "</tr>\n",
       "<tr>\n",
       "  <th>reviews_per_month</th> <td>   -9.7773</td> <td>    1.187</td> <td>   -8.236</td> <td> 0.000</td> <td>  -12.105</td> <td>   -7.450</td>\n",
       "</tr>\n",
       "<tr>\n",
       "  <th>minimum_nights</th>    <td>   -0.1645</td> <td>    0.099</td> <td>   -1.661</td> <td> 0.097</td> <td>   -0.359</td> <td>    0.030</td>\n",
       "</tr>\n",
       "</table>\n",
       "<table class=\"simpletable\">\n",
       "<tr>\n",
       "  <th>Omnibus:</th>       <td>6735.718</td> <th>  Durbin-Watson:     </th>   <td>   1.898</td>  \n",
       "</tr>\n",
       "<tr>\n",
       "  <th>Prob(Omnibus):</th>  <td> 0.000</td>  <th>  Jarque-Bera (JB):  </th> <td>10327067.898</td>\n",
       "</tr>\n",
       "<tr>\n",
       "  <th>Skew:</th>           <td> 9.919</td>  <th>  Prob(JB):          </th>   <td>    0.00</td>  \n",
       "</tr>\n",
       "<tr>\n",
       "  <th>Kurtosis:</th>       <td>244.909</td> <th>  Cond. No.          </th>   <td>    49.9</td>  \n",
       "</tr>\n",
       "</table><br/><br/>Notes:<br/>[1] Standard Errors assume that the covariance matrix of the errors is correctly specified."
      ],
      "text/plain": [
       "<class 'statsmodels.iolib.summary.Summary'>\n",
       "\"\"\"\n",
       "                            OLS Regression Results                            \n",
       "==============================================================================\n",
       "Dep. Variable:                  price   R-squared:                       0.016\n",
       "Model:                            OLS   Adj. R-squared:                  0.015\n",
       "Method:                 Least Squares   F-statistic:                     34.04\n",
       "Date:                Mon, 24 May 2021   Prob (F-statistic):           2.16e-15\n",
       "Time:                        14:57:07   Log-Likelihood:                -26079.\n",
       "No. Observations:                4207   AIC:                         5.216e+04\n",
       "Df Residuals:                    4204   BIC:                         5.218e+04\n",
       "Df Model:                           2                                         \n",
       "Covariance Type:            nonrobust                                         \n",
       "=====================================================================================\n",
       "                        coef    std err          t      P>|t|      [0.025      0.975]\n",
       "-------------------------------------------------------------------------------------\n",
       "Intercept           155.4020      3.567     43.562      0.000     148.408     162.396\n",
       "reviews_per_month    -9.7773      1.187     -8.236      0.000     -12.105      -7.450\n",
       "minimum_nights       -0.1645      0.099     -1.661      0.097      -0.359       0.030\n",
       "==============================================================================\n",
       "Omnibus:                     6735.718   Durbin-Watson:                   1.898\n",
       "Prob(Omnibus):                  0.000   Jarque-Bera (JB):         10327067.898\n",
       "Skew:                           9.919   Prob(JB):                         0.00\n",
       "Kurtosis:                     244.909   Cond. No.                         49.9\n",
       "==============================================================================\n",
       "\n",
       "Notes:\n",
       "[1] Standard Errors assume that the covariance matrix of the errors is correctly specified.\n",
       "\"\"\""
      ]
     },
     "execution_count": 27,
     "metadata": {},
     "output_type": "execute_result"
    }
   ],
   "source": [
    "results2.summary()"
   ]
  },
  {
   "cell_type": "code",
   "execution_count": 28,
   "metadata": {},
   "outputs": [
    {
     "data": {
      "text/html": [
       "<table class=\"simpletable\">\n",
       "<caption>OLS Regression Results</caption>\n",
       "<tr>\n",
       "  <th>Dep. Variable:</th>          <td>price</td>      <th>  R-squared:         </th> <td>   0.016</td> \n",
       "</tr>\n",
       "<tr>\n",
       "  <th>Model:</th>                   <td>OLS</td>       <th>  Adj. R-squared:    </th> <td>   0.016</td> \n",
       "</tr>\n",
       "<tr>\n",
       "  <th>Method:</th>             <td>Least Squares</td>  <th>  F-statistic:       </th> <td>   23.19</td> \n",
       "</tr>\n",
       "<tr>\n",
       "  <th>Date:</th>             <td>Mon, 24 May 2021</td> <th>  Prob (F-statistic):</th> <td>6.91e-15</td> \n",
       "</tr>\n",
       "<tr>\n",
       "  <th>Time:</th>                 <td>14:57:07</td>     <th>  Log-Likelihood:    </th> <td> -26078.</td> \n",
       "</tr>\n",
       "<tr>\n",
       "  <th>No. Observations:</th>      <td>  4207</td>      <th>  AIC:               </th> <td>5.216e+04</td>\n",
       "</tr>\n",
       "<tr>\n",
       "  <th>Df Residuals:</th>          <td>  4203</td>      <th>  BIC:               </th> <td>5.219e+04</td>\n",
       "</tr>\n",
       "<tr>\n",
       "  <th>Df Model:</th>              <td>     3</td>      <th>                     </th>     <td> </td>    \n",
       "</tr>\n",
       "<tr>\n",
       "  <th>Covariance Type:</th>      <td>nonrobust</td>    <th>                     </th>     <td> </td>    \n",
       "</tr>\n",
       "</table>\n",
       "<table class=\"simpletable\">\n",
       "<tr>\n",
       "          <td></td>             <th>coef</th>     <th>std err</th>      <th>t</th>      <th>P>|t|</th>  <th>[0.025</th>    <th>0.975]</th>  \n",
       "</tr>\n",
       "<tr>\n",
       "  <th>Intercept</th>         <td>-2120.0940</td> <td> 1863.457</td> <td>   -1.138</td> <td> 0.255</td> <td>-5773.455</td> <td> 1533.267</td>\n",
       "</tr>\n",
       "<tr>\n",
       "  <th>reviews_per_month</th> <td>   -9.7444</td> <td>    1.187</td> <td>   -8.207</td> <td> 0.000</td> <td>  -12.072</td> <td>   -7.417</td>\n",
       "</tr>\n",
       "<tr>\n",
       "  <th>minimum_nights</th>    <td>   -0.1697</td> <td>    0.099</td> <td>   -1.713</td> <td> 0.087</td> <td>   -0.364</td> <td>    0.025</td>\n",
       "</tr>\n",
       "<tr>\n",
       "  <th>latitude</th>          <td>   47.7799</td> <td>   39.128</td> <td>    1.221</td> <td> 0.222</td> <td>  -28.932</td> <td>  124.491</td>\n",
       "</tr>\n",
       "</table>\n",
       "<table class=\"simpletable\">\n",
       "<tr>\n",
       "  <th>Omnibus:</th>       <td>6731.228</td> <th>  Durbin-Watson:     </th>   <td>   1.898</td>  \n",
       "</tr>\n",
       "<tr>\n",
       "  <th>Prob(Omnibus):</th>  <td> 0.000</td>  <th>  Jarque-Bera (JB):  </th> <td>10295384.148</td>\n",
       "</tr>\n",
       "<tr>\n",
       "  <th>Skew:</th>           <td> 9.906</td>  <th>  Prob(JB):          </th>   <td>    0.00</td>  \n",
       "</tr>\n",
       "<tr>\n",
       "  <th>Kurtosis:</th>       <td>244.537</td> <th>  Cond. No.          </th>   <td>5.14e+04</td>  \n",
       "</tr>\n",
       "</table><br/><br/>Notes:<br/>[1] Standard Errors assume that the covariance matrix of the errors is correctly specified.<br/>[2] The condition number is large, 5.14e+04. This might indicate that there are<br/>strong multicollinearity or other numerical problems."
      ],
      "text/plain": [
       "<class 'statsmodels.iolib.summary.Summary'>\n",
       "\"\"\"\n",
       "                            OLS Regression Results                            \n",
       "==============================================================================\n",
       "Dep. Variable:                  price   R-squared:                       0.016\n",
       "Model:                            OLS   Adj. R-squared:                  0.016\n",
       "Method:                 Least Squares   F-statistic:                     23.19\n",
       "Date:                Mon, 24 May 2021   Prob (F-statistic):           6.91e-15\n",
       "Time:                        14:57:07   Log-Likelihood:                -26078.\n",
       "No. Observations:                4207   AIC:                         5.216e+04\n",
       "Df Residuals:                    4203   BIC:                         5.219e+04\n",
       "Df Model:                           3                                         \n",
       "Covariance Type:            nonrobust                                         \n",
       "=====================================================================================\n",
       "                        coef    std err          t      P>|t|      [0.025      0.975]\n",
       "-------------------------------------------------------------------------------------\n",
       "Intercept         -2120.0940   1863.457     -1.138      0.255   -5773.455    1533.267\n",
       "reviews_per_month    -9.7444      1.187     -8.207      0.000     -12.072      -7.417\n",
       "minimum_nights       -0.1697      0.099     -1.713      0.087      -0.364       0.025\n",
       "latitude             47.7799     39.128      1.221      0.222     -28.932     124.491\n",
       "==============================================================================\n",
       "Omnibus:                     6731.228   Durbin-Watson:                   1.898\n",
       "Prob(Omnibus):                  0.000   Jarque-Bera (JB):         10295384.148\n",
       "Skew:                           9.906   Prob(JB):                         0.00\n",
       "Kurtosis:                     244.537   Cond. No.                     5.14e+04\n",
       "==============================================================================\n",
       "\n",
       "Notes:\n",
       "[1] Standard Errors assume that the covariance matrix of the errors is correctly specified.\n",
       "[2] The condition number is large, 5.14e+04. This might indicate that there are\n",
       "strong multicollinearity or other numerical problems.\n",
       "\"\"\""
      ]
     },
     "execution_count": 28,
     "metadata": {},
     "output_type": "execute_result"
    }
   ],
   "source": [
    "results3.summary()"
   ]
  },
  {
   "cell_type": "code",
   "execution_count": 29,
   "metadata": {},
   "outputs": [
    {
     "data": {
      "text/html": [
       "<table class=\"simpletable\">\n",
       "<caption>OLS Regression Results</caption>\n",
       "<tr>\n",
       "  <th>Dep. Variable:</th>          <td>price</td>      <th>  R-squared:         </th> <td>   0.024</td> \n",
       "</tr>\n",
       "<tr>\n",
       "  <th>Model:</th>                   <td>OLS</td>       <th>  Adj. R-squared:    </th> <td>   0.023</td> \n",
       "</tr>\n",
       "<tr>\n",
       "  <th>Method:</th>             <td>Least Squares</td>  <th>  F-statistic:       </th> <td>   25.36</td> \n",
       "</tr>\n",
       "<tr>\n",
       "  <th>Date:</th>             <td>Mon, 24 May 2021</td> <th>  Prob (F-statistic):</th> <td>8.67e-21</td> \n",
       "</tr>\n",
       "<tr>\n",
       "  <th>Time:</th>                 <td>14:57:07</td>     <th>  Log-Likelihood:    </th> <td> -26062.</td> \n",
       "</tr>\n",
       "<tr>\n",
       "  <th>No. Observations:</th>      <td>  4207</td>      <th>  AIC:               </th> <td>5.213e+04</td>\n",
       "</tr>\n",
       "<tr>\n",
       "  <th>Df Residuals:</th>          <td>  4202</td>      <th>  BIC:               </th> <td>5.217e+04</td>\n",
       "</tr>\n",
       "<tr>\n",
       "  <th>Df Model:</th>              <td>     4</td>      <th>                     </th>     <td> </td>    \n",
       "</tr>\n",
       "<tr>\n",
       "  <th>Covariance Type:</th>      <td>nonrobust</td>    <th>                     </th>     <td> </td>    \n",
       "</tr>\n",
       "</table>\n",
       "<table class=\"simpletable\">\n",
       "<tr>\n",
       "          <td></td>             <th>coef</th>     <th>std err</th>      <th>t</th>      <th>P>|t|</th>  <th>[0.025</th>    <th>0.975]</th>  \n",
       "</tr>\n",
       "<tr>\n",
       "  <th>Intercept</th>         <td>-3.898e+04</td> <td> 6839.329</td> <td>   -5.699</td> <td> 0.000</td> <td>-5.24e+04</td> <td>-2.56e+04</td>\n",
       "</tr>\n",
       "<tr>\n",
       "  <th>reviews_per_month</th> <td>  -10.0627</td> <td>    1.184</td> <td>   -8.496</td> <td> 0.000</td> <td>  -12.385</td> <td>   -7.741</td>\n",
       "</tr>\n",
       "<tr>\n",
       "  <th>minimum_nights</th>    <td>   -0.1633</td> <td>    0.099</td> <td>   -1.654</td> <td> 0.098</td> <td>   -0.357</td> <td>    0.030</td>\n",
       "</tr>\n",
       "<tr>\n",
       "  <th>latitude</th>          <td>   17.5769</td> <td>   39.359</td> <td>    0.447</td> <td> 0.655</td> <td>  -59.587</td> <td>   94.741</td>\n",
       "</tr>\n",
       "<tr>\n",
       "  <th>longitude</th>         <td> -313.0463</td> <td>   55.908</td> <td>   -5.599</td> <td> 0.000</td> <td> -422.655</td> <td> -203.437</td>\n",
       "</tr>\n",
       "</table>\n",
       "<table class=\"simpletable\">\n",
       "<tr>\n",
       "  <th>Omnibus:</th>       <td>6736.610</td> <th>  Durbin-Watson:     </th>   <td>   1.899</td>  \n",
       "</tr>\n",
       "<tr>\n",
       "  <th>Prob(Omnibus):</th>  <td> 0.000</td>  <th>  Jarque-Bera (JB):  </th> <td>10392559.343</td>\n",
       "</tr>\n",
       "<tr>\n",
       "  <th>Skew:</th>           <td> 9.920</td>  <th>  Prob(JB):          </th>   <td>    0.00</td>  \n",
       "</tr>\n",
       "<tr>\n",
       "  <th>Kurtosis:</th>       <td>245.680</td> <th>  Cond. No.          </th>   <td>4.94e+05</td>  \n",
       "</tr>\n",
       "</table><br/><br/>Notes:<br/>[1] Standard Errors assume that the covariance matrix of the errors is correctly specified.<br/>[2] The condition number is large, 4.94e+05. This might indicate that there are<br/>strong multicollinearity or other numerical problems."
      ],
      "text/plain": [
       "<class 'statsmodels.iolib.summary.Summary'>\n",
       "\"\"\"\n",
       "                            OLS Regression Results                            \n",
       "==============================================================================\n",
       "Dep. Variable:                  price   R-squared:                       0.024\n",
       "Model:                            OLS   Adj. R-squared:                  0.023\n",
       "Method:                 Least Squares   F-statistic:                     25.36\n",
       "Date:                Mon, 24 May 2021   Prob (F-statistic):           8.67e-21\n",
       "Time:                        14:57:07   Log-Likelihood:                -26062.\n",
       "No. Observations:                4207   AIC:                         5.213e+04\n",
       "Df Residuals:                    4202   BIC:                         5.217e+04\n",
       "Df Model:                           4                                         \n",
       "Covariance Type:            nonrobust                                         \n",
       "=====================================================================================\n",
       "                        coef    std err          t      P>|t|      [0.025      0.975]\n",
       "-------------------------------------------------------------------------------------\n",
       "Intercept         -3.898e+04   6839.329     -5.699      0.000   -5.24e+04   -2.56e+04\n",
       "reviews_per_month   -10.0627      1.184     -8.496      0.000     -12.385      -7.741\n",
       "minimum_nights       -0.1633      0.099     -1.654      0.098      -0.357       0.030\n",
       "latitude             17.5769     39.359      0.447      0.655     -59.587      94.741\n",
       "longitude          -313.0463     55.908     -5.599      0.000    -422.655    -203.437\n",
       "==============================================================================\n",
       "Omnibus:                     6736.610   Durbin-Watson:                   1.899\n",
       "Prob(Omnibus):                  0.000   Jarque-Bera (JB):         10392559.343\n",
       "Skew:                           9.920   Prob(JB):                         0.00\n",
       "Kurtosis:                     245.680   Cond. No.                     4.94e+05\n",
       "==============================================================================\n",
       "\n",
       "Notes:\n",
       "[1] Standard Errors assume that the covariance matrix of the errors is correctly specified.\n",
       "[2] The condition number is large, 4.94e+05. This might indicate that there are\n",
       "strong multicollinearity or other numerical problems.\n",
       "\"\"\""
      ]
     },
     "execution_count": 29,
     "metadata": {},
     "output_type": "execute_result"
    }
   ],
   "source": [
    "results4.summary()"
   ]
  },
  {
   "cell_type": "code",
   "execution_count": 30,
   "metadata": {},
   "outputs": [
    {
     "data": {
      "text/html": [
       "<table class=\"simpletable\">\n",
       "<caption>OLS Regression Results</caption>\n",
       "<tr>\n",
       "  <th>Dep. Variable:</th>          <td>price</td>      <th>  R-squared:         </th> <td>   0.027</td> \n",
       "</tr>\n",
       "<tr>\n",
       "  <th>Model:</th>                   <td>OLS</td>       <th>  Adj. R-squared:    </th> <td>   0.026</td> \n",
       "</tr>\n",
       "<tr>\n",
       "  <th>Method:</th>             <td>Least Squares</td>  <th>  F-statistic:       </th> <td>   23.66</td> \n",
       "</tr>\n",
       "<tr>\n",
       "  <th>Date:</th>             <td>Mon, 24 May 2021</td> <th>  Prob (F-statistic):</th> <td>1.58e-23</td> \n",
       "</tr>\n",
       "<tr>\n",
       "  <th>Time:</th>                 <td>14:57:07</td>     <th>  Log-Likelihood:    </th> <td> -26054.</td> \n",
       "</tr>\n",
       "<tr>\n",
       "  <th>No. Observations:</th>      <td>  4207</td>      <th>  AIC:               </th> <td>5.212e+04</td>\n",
       "</tr>\n",
       "<tr>\n",
       "  <th>Df Residuals:</th>          <td>  4201</td>      <th>  BIC:               </th> <td>5.216e+04</td>\n",
       "</tr>\n",
       "<tr>\n",
       "  <th>Df Model:</th>              <td>     5</td>      <th>                     </th>     <td> </td>    \n",
       "</tr>\n",
       "<tr>\n",
       "  <th>Covariance Type:</th>      <td>nonrobust</td>    <th>                     </th>     <td> </td>    \n",
       "</tr>\n",
       "</table>\n",
       "<table class=\"simpletable\">\n",
       "<tr>\n",
       "          <td></td>             <th>coef</th>     <th>std err</th>      <th>t</th>      <th>P>|t|</th>  <th>[0.025</th>    <th>0.975]</th>  \n",
       "</tr>\n",
       "<tr>\n",
       "  <th>Intercept</th>         <td>-3.923e+04</td> <td> 6827.062</td> <td>   -5.746</td> <td> 0.000</td> <td>-5.26e+04</td> <td>-2.58e+04</td>\n",
       "</tr>\n",
       "<tr>\n",
       "  <th>reviews_per_month</th> <td>   -9.8732</td> <td>    1.183</td> <td>   -8.345</td> <td> 0.000</td> <td>  -12.193</td> <td>   -7.554</td>\n",
       "</tr>\n",
       "<tr>\n",
       "  <th>minimum_nights</th>    <td>   -0.2142</td> <td>    0.099</td> <td>   -2.156</td> <td> 0.031</td> <td>   -0.409</td> <td>   -0.019</td>\n",
       "</tr>\n",
       "<tr>\n",
       "  <th>latitude</th>          <td>   17.7677</td> <td>   39.287</td> <td>    0.452</td> <td> 0.651</td> <td>  -59.255</td> <td>   94.790</td>\n",
       "</tr>\n",
       "<tr>\n",
       "  <th>longitude</th>         <td> -314.9709</td> <td>   55.807</td> <td>   -5.644</td> <td> 0.000</td> <td> -424.383</td> <td> -205.559</td>\n",
       "</tr>\n",
       "<tr>\n",
       "  <th>availability_365</th>  <td>    0.0589</td> <td>    0.015</td> <td>    4.058</td> <td> 0.000</td> <td>    0.030</td> <td>    0.087</td>\n",
       "</tr>\n",
       "</table>\n",
       "<table class=\"simpletable\">\n",
       "<tr>\n",
       "  <th>Omnibus:</th>       <td>6752.280</td> <th>  Durbin-Watson:     </th>   <td>   1.894</td>  \n",
       "</tr>\n",
       "<tr>\n",
       "  <th>Prob(Omnibus):</th>  <td> 0.000</td>  <th>  Jarque-Bera (JB):  </th> <td>10552600.262</td>\n",
       "</tr>\n",
       "<tr>\n",
       "  <th>Skew:</th>           <td> 9.964</td>  <th>  Prob(JB):          </th>   <td>    0.00</td>  \n",
       "</tr>\n",
       "<tr>\n",
       "  <th>Kurtosis:</th>       <td>247.547</td> <th>  Cond. No.          </th>   <td>8.94e+05</td>  \n",
       "</tr>\n",
       "</table><br/><br/>Notes:<br/>[1] Standard Errors assume that the covariance matrix of the errors is correctly specified.<br/>[2] The condition number is large, 8.94e+05. This might indicate that there are<br/>strong multicollinearity or other numerical problems."
      ],
      "text/plain": [
       "<class 'statsmodels.iolib.summary.Summary'>\n",
       "\"\"\"\n",
       "                            OLS Regression Results                            \n",
       "==============================================================================\n",
       "Dep. Variable:                  price   R-squared:                       0.027\n",
       "Model:                            OLS   Adj. R-squared:                  0.026\n",
       "Method:                 Least Squares   F-statistic:                     23.66\n",
       "Date:                Mon, 24 May 2021   Prob (F-statistic):           1.58e-23\n",
       "Time:                        14:57:07   Log-Likelihood:                -26054.\n",
       "No. Observations:                4207   AIC:                         5.212e+04\n",
       "Df Residuals:                    4201   BIC:                         5.216e+04\n",
       "Df Model:                           5                                         \n",
       "Covariance Type:            nonrobust                                         \n",
       "=====================================================================================\n",
       "                        coef    std err          t      P>|t|      [0.025      0.975]\n",
       "-------------------------------------------------------------------------------------\n",
       "Intercept         -3.923e+04   6827.062     -5.746      0.000   -5.26e+04   -2.58e+04\n",
       "reviews_per_month    -9.8732      1.183     -8.345      0.000     -12.193      -7.554\n",
       "minimum_nights       -0.2142      0.099     -2.156      0.031      -0.409      -0.019\n",
       "latitude             17.7677     39.287      0.452      0.651     -59.255      94.790\n",
       "longitude          -314.9709     55.807     -5.644      0.000    -424.383    -205.559\n",
       "availability_365      0.0589      0.015      4.058      0.000       0.030       0.087\n",
       "==============================================================================\n",
       "Omnibus:                     6752.280   Durbin-Watson:                   1.894\n",
       "Prob(Omnibus):                  0.000   Jarque-Bera (JB):         10552600.262\n",
       "Skew:                           9.964   Prob(JB):                         0.00\n",
       "Kurtosis:                     247.547   Cond. No.                     8.94e+05\n",
       "==============================================================================\n",
       "\n",
       "Notes:\n",
       "[1] Standard Errors assume that the covariance matrix of the errors is correctly specified.\n",
       "[2] The condition number is large, 8.94e+05. This might indicate that there are\n",
       "strong multicollinearity or other numerical problems.\n",
       "\"\"\""
      ]
     },
     "execution_count": 30,
     "metadata": {},
     "output_type": "execute_result"
    }
   ],
   "source": [
    "results5.summary()"
   ]
  },
  {
   "cell_type": "code",
   "execution_count": 31,
   "metadata": {},
   "outputs": [
    {
     "data": {
      "text/html": [
       "<table class=\"simpletable\">\n",
       "<caption>OLS Regression Results</caption>\n",
       "<tr>\n",
       "  <th>Dep. Variable:</th>          <td>price</td>      <th>  R-squared:         </th> <td>   0.027</td> \n",
       "</tr>\n",
       "<tr>\n",
       "  <th>Model:</th>                   <td>OLS</td>       <th>  Adj. R-squared:    </th> <td>   0.026</td> \n",
       "</tr>\n",
       "<tr>\n",
       "  <th>Method:</th>             <td>Least Squares</td>  <th>  F-statistic:       </th> <td>   19.72</td> \n",
       "</tr>\n",
       "<tr>\n",
       "  <th>Date:</th>             <td>Mon, 24 May 2021</td> <th>  Prob (F-statistic):</th> <td>7.96e-23</td> \n",
       "</tr>\n",
       "<tr>\n",
       "  <th>Time:</th>                 <td>14:57:07</td>     <th>  Log-Likelihood:    </th> <td> -26054.</td> \n",
       "</tr>\n",
       "<tr>\n",
       "  <th>No. Observations:</th>      <td>  4207</td>      <th>  AIC:               </th> <td>5.212e+04</td>\n",
       "</tr>\n",
       "<tr>\n",
       "  <th>Df Residuals:</th>          <td>  4200</td>      <th>  BIC:               </th> <td>5.217e+04</td>\n",
       "</tr>\n",
       "<tr>\n",
       "  <th>Df Model:</th>              <td>     6</td>      <th>                     </th>     <td> </td>    \n",
       "</tr>\n",
       "<tr>\n",
       "  <th>Covariance Type:</th>      <td>nonrobust</td>    <th>                     </th>     <td> </td>    \n",
       "</tr>\n",
       "</table>\n",
       "<table class=\"simpletable\">\n",
       "<tr>\n",
       "                 <td></td>                   <th>coef</th>     <th>std err</th>      <th>t</th>      <th>P>|t|</th>  <th>[0.025</th>    <th>0.975]</th>  \n",
       "</tr>\n",
       "<tr>\n",
       "  <th>Intercept</th>                      <td>-3.929e+04</td> <td> 6832.892</td> <td>   -5.750</td> <td> 0.000</td> <td>-5.27e+04</td> <td>-2.59e+04</td>\n",
       "</tr>\n",
       "<tr>\n",
       "  <th>reviews_per_month</th>              <td>   -9.8561</td> <td>    1.186</td> <td>   -8.311</td> <td> 0.000</td> <td>  -12.181</td> <td>   -7.531</td>\n",
       "</tr>\n",
       "<tr>\n",
       "  <th>minimum_nights</th>                 <td>   -0.2192</td> <td>    0.102</td> <td>   -2.148</td> <td> 0.032</td> <td>   -0.419</td> <td>   -0.019</td>\n",
       "</tr>\n",
       "<tr>\n",
       "  <th>latitude</th>                       <td>   18.2725</td> <td>   39.361</td> <td>    0.464</td> <td> 0.643</td> <td>  -58.897</td> <td>   95.442</td>\n",
       "</tr>\n",
       "<tr>\n",
       "  <th>longitude</th>                      <td> -315.2347</td> <td>   55.827</td> <td>   -5.647</td> <td> 0.000</td> <td> -424.686</td> <td> -205.784</td>\n",
       "</tr>\n",
       "<tr>\n",
       "  <th>availability_365</th>               <td>    0.0585</td> <td>    0.015</td> <td>    3.992</td> <td> 0.000</td> <td>    0.030</td> <td>    0.087</td>\n",
       "</tr>\n",
       "<tr>\n",
       "  <th>calculated_host_listings_count</th> <td>    0.0124</td> <td>    0.058</td> <td>    0.215</td> <td> 0.830</td> <td>   -0.101</td> <td>    0.126</td>\n",
       "</tr>\n",
       "</table>\n",
       "<table class=\"simpletable\">\n",
       "<tr>\n",
       "  <th>Omnibus:</th>       <td>6753.548</td> <th>  Durbin-Watson:     </th>   <td>   1.895</td>  \n",
       "</tr>\n",
       "<tr>\n",
       "  <th>Prob(Omnibus):</th>  <td> 0.000</td>  <th>  Jarque-Bera (JB):  </th> <td>10559405.651</td>\n",
       "</tr>\n",
       "<tr>\n",
       "  <th>Skew:</th>           <td> 9.968</td>  <th>  Prob(JB):          </th>   <td>    0.00</td>  \n",
       "</tr>\n",
       "<tr>\n",
       "  <th>Kurtosis:</th>       <td>247.625</td> <th>  Cond. No.          </th>   <td>8.97e+05</td>  \n",
       "</tr>\n",
       "</table><br/><br/>Notes:<br/>[1] Standard Errors assume that the covariance matrix of the errors is correctly specified.<br/>[2] The condition number is large, 8.97e+05. This might indicate that there are<br/>strong multicollinearity or other numerical problems."
      ],
      "text/plain": [
       "<class 'statsmodels.iolib.summary.Summary'>\n",
       "\"\"\"\n",
       "                            OLS Regression Results                            \n",
       "==============================================================================\n",
       "Dep. Variable:                  price   R-squared:                       0.027\n",
       "Model:                            OLS   Adj. R-squared:                  0.026\n",
       "Method:                 Least Squares   F-statistic:                     19.72\n",
       "Date:                Mon, 24 May 2021   Prob (F-statistic):           7.96e-23\n",
       "Time:                        14:57:07   Log-Likelihood:                -26054.\n",
       "No. Observations:                4207   AIC:                         5.212e+04\n",
       "Df Residuals:                    4200   BIC:                         5.217e+04\n",
       "Df Model:                           6                                         \n",
       "Covariance Type:            nonrobust                                         \n",
       "==================================================================================================\n",
       "                                     coef    std err          t      P>|t|      [0.025      0.975]\n",
       "--------------------------------------------------------------------------------------------------\n",
       "Intercept                      -3.929e+04   6832.892     -5.750      0.000   -5.27e+04   -2.59e+04\n",
       "reviews_per_month                 -9.8561      1.186     -8.311      0.000     -12.181      -7.531\n",
       "minimum_nights                    -0.2192      0.102     -2.148      0.032      -0.419      -0.019\n",
       "latitude                          18.2725     39.361      0.464      0.643     -58.897      95.442\n",
       "longitude                       -315.2347     55.827     -5.647      0.000    -424.686    -205.784\n",
       "availability_365                   0.0585      0.015      3.992      0.000       0.030       0.087\n",
       "calculated_host_listings_count     0.0124      0.058      0.215      0.830      -0.101       0.126\n",
       "==============================================================================\n",
       "Omnibus:                     6753.548   Durbin-Watson:                   1.895\n",
       "Prob(Omnibus):                  0.000   Jarque-Bera (JB):         10559405.651\n",
       "Skew:                           9.968   Prob(JB):                         0.00\n",
       "Kurtosis:                     247.625   Cond. No.                     8.97e+05\n",
       "==============================================================================\n",
       "\n",
       "Notes:\n",
       "[1] Standard Errors assume that the covariance matrix of the errors is correctly specified.\n",
       "[2] The condition number is large, 8.97e+05. This might indicate that there are\n",
       "strong multicollinearity or other numerical problems.\n",
       "\"\"\""
      ]
     },
     "execution_count": 31,
     "metadata": {},
     "output_type": "execute_result"
    }
   ],
   "source": [
    "results6.summary()"
   ]
  },
  {
   "cell_type": "code",
   "execution_count": 32,
   "metadata": {},
   "outputs": [
    {
     "name": "stdout",
     "output_type": "stream",
     "text": [
      "                                     Table 1 - OLS Regressions\n",
      "===================================================================================================\n",
      "                                Model 1   Model 2   Model 3    Model 4      Model 5      Model 6   \n",
      "---------------------------------------------------------------------------------------------------\n",
      "Intercept                      151.83*** 155.40*** -2120.09  -38977.41*** -39231.45*** -39287.85***\n",
      "                               (2.85)    (3.57)    (1863.46) (6839.33)    (6827.06)    (6832.89)   \n",
      "R-squared                      0.02      0.02      0.02      0.02         0.03         0.03        \n",
      "R-squared Adj.                 0.02      0.02      0.02      0.02         0.03         0.03        \n",
      "availability_365                                                          0.06***      0.06***     \n",
      "                                                                          (0.01)       (0.01)      \n",
      "calculated_host_listings_count                                                         0.01        \n",
      "                                                                                       (0.06)      \n",
      "latitude                                           47.78     17.58        17.77        18.27       \n",
      "                                                   (39.13)   (39.36)      (39.29)      (39.36)     \n",
      "longitude                                                    -313.05***   -314.97***   -315.23***  \n",
      "                                                             (55.91)      (55.81)      (55.83)     \n",
      "minimum_nights                           -0.16*    -0.17*    -0.16*       -0.21**      -0.22**     \n",
      "                                         (0.10)    (0.10)    (0.10)       (0.10)       (0.10)      \n",
      "reviews_per_month              -9.26***  -9.78***  -9.74***  -10.06***    -9.87***     -9.86***    \n",
      "                               (1.15)    (1.19)    (1.19)    (1.18)       (1.18)       (1.19)      \n",
      "===================================================================================================\n",
      "Standard errors in parentheses.\n",
      "* p<.1, ** p<.05, ***p<.01\n"
     ]
    }
   ],
   "source": [
    "#Create a nice table to view the results of our model\n",
    "results_table = summary_col(results=[results1,results2,results3,results4,results5,results6],\n",
    "                            float_format='%0.2f',\n",
    "                            stars = True,\n",
    "                            model_names=['Model 1','Model 2', 'Model 3', 'Model 4', 'Model 5', 'Model 6'],\n",
    "                            )\n",
    "\n",
    "results_table.add_title('Table 1 - OLS Regressions')\n",
    "\n",
    "print(results_table)"
   ]
  },
  {
   "cell_type": "code",
   "execution_count": 33,
   "metadata": {},
   "outputs": [
    {
     "data": {
      "text/plain": [
       "<AxesSubplot:>"
      ]
     },
     "execution_count": 33,
     "metadata": {},
     "output_type": "execute_result"
    },
    {
     "data": {
      "image/png": "[encoded data removed]",
      "text/plain": [
       "<Figure size 432x288 with 1 Axes>"
      ]
     },
     "metadata": {
      "needs_background": "light"
     },
     "output_type": "display_data"
    }
   ],
   "source": [
    "#The residual plot shows that our endogeniety and homogeneity assumptions are violated.\n",
    "#Ideally the residual plot would be very random in nature and would have any patterns. Instead, it almost looks bimodal with one large spike. amd most of the\n",
    "#residuals seem to reside in a fairly tight band near the axis\n",
    "results6.resid.plot()\n"
   ]
  },
  {
   "cell_type": "code",
   "execution_count": 34,
   "metadata": {},
   "outputs": [],
   "source": [
    "#We are using model 6 for our analysis because it has the highest R-squared value\n",
    "#and the most statistically significant explanatory variable"
   ]
  },
  {
   "cell_type": "code",
   "execution_count": 35,
   "metadata": {},
   "outputs": [
    {
     "data": {
      "text/plain": [
       "<AxesSubplot:xlabel='price', ylabel='reviews_per_month'>"
      ]
     },
     "execution_count": 35,
     "metadata": {},
     "output_type": "execute_result"
    },
    {
     "data": {
      "image/png": "[encoded data removed]",
      "text/plain": [
       "<Figure size 432x288 with 1 Axes>"
      ]
     },
     "metadata": {
      "needs_background": "light"
     },
     "output_type": "display_data"
    }
   ],
   "source": [
    "sns.residplot(x='price',y='reviews_per_month',data = df2)"
   ]
  },
  {
   "cell_type": "code",
   "execution_count": 38,
   "metadata": {},
   "outputs": [
    {
     "data": {
      "text/plain": [
       "<AxesSubplot:>"
      ]
     },
     "execution_count": 38,
     "metadata": {},
     "output_type": "execute_result"
    },
    {
     "data": {
      "image/png": "[encoded data removed]",
      "text/plain": [
       "<Figure size 432x288 with 1 Axes>"
      ]
     },
     "metadata": {
      "needs_background": "light"
     },
     "output_type": "display_data"
    }
   ],
   "source": [
    "#The following residual plots are given for the project rubric and completeness\n",
    "results1.resid.plot()"
   ]
  },
  {
   "cell_type": "code",
   "execution_count": 39,
   "metadata": {},
   "outputs": [
    {
     "data": {
      "text/plain": [
       "<AxesSubplot:>"
      ]
     },
     "execution_count": 39,
     "metadata": {},
     "output_type": "execute_result"
    },
    {
     "data": {
      "image/png": "[encoded data removed]",
      "text/plain": [
       "<Figure size 432x288 with 1 Axes>"
      ]
     },
     "metadata": {
      "needs_background": "light"
     },
     "output_type": "display_data"
    }
   ],
   "source": [
    "results2.resid.plot()"
   ]
  },
  {
   "cell_type": "code",
   "execution_count": 40,
   "metadata": {},
   "outputs": [
    {
     "data": {
      "text/plain": [
       "<AxesSubplot:>"
      ]
     },
     "execution_count": 40,
     "metadata": {},
     "output_type": "execute_result"
    },
    {
     "data": {
      "image/png": "[encoded data removed]",
      "text/plain": [
       "<Figure size 432x288 with 1 Axes>"
      ]
     },
     "metadata": {
      "needs_background": "light"
     },
     "output_type": "display_data"
    }
   ],
   "source": [
    "results3.resid.plot()"
   ]
  },
  {
   "cell_type": "code",
   "execution_count": 41,
   "metadata": {},
   "outputs": [
    {
     "data": {
      "text/plain": [
       "<AxesSubplot:>"
      ]
     },
     "execution_count": 41,
     "metadata": {},
     "output_type": "execute_result"
    },
    {
     "data": {
      "image/png": "[encoded data removed]",
      "text/plain": [
       "<Figure size 432x288 with 1 Axes>"
      ]
     },
     "metadata": {
      "needs_background": "light"
     },
     "output_type": "display_data"
    }
   ],
   "source": [
    "results4.resid.plot()"
   ]
  },
  {
   "cell_type": "code",
   "execution_count": 42,
   "metadata": {},
   "outputs": [
    {
     "data": {
      "text/plain": [
       "<AxesSubplot:>"
      ]
     },
     "execution_count": 42,
     "metadata": {},
     "output_type": "execute_result"
    },
    {
     "data": {
      "image/png": "[encoded data removed]",
      "text/plain": [
       "<Figure size 432x288 with 1 Axes>"
      ]
     },
     "metadata": {
      "needs_background": "light"
     },
     "output_type": "display_data"
    }
   ],
   "source": [
    "results5.resid.plot()"
   ]
  },
  {
   "cell_type": "code",
   "execution_count": 36,
   "metadata": {},
   "outputs": [],
   "source": [
    "#Interpreting results:\n",
    "#For every additional monthly review the price of a unit decreases by 9 dollars and\n",
    "#87 cents (99% confident)\n",
    "#For each additional number of minimum nights the price decreases by 21 cents (95% confident)\n",
    "# For each additional degree of longitude west traveled in Seattle the price decreases 315 dollars and 23 cents (99% confident)\n",
    "#For each additional day in a year the AirBnb is available the price increases 6 cents (99% confident)\n",
    "#There is no reason to interpret our other coeffecients because they are not statistically significant"
   ]
  },
  {
   "cell_type": "code",
   "execution_count": 37,
   "metadata": {},
   "outputs": [],
   "source": [
    "#Limitations: The biggest limit is that our model has a really low\n",
    "#R-squared value which means the variation in our explanatory variables\n",
    "#does not actually explain the variation in the outcome variable.\n",
    "#In fact, our model only explains 3% of the varaition in price.  This means\n",
    "#there are many other outside factors that influence the price of an \n",
    "# AirBnb unit.\n",
    "\n",
    "#additionally our variables are not transformed.  Some of the distributions we\n",
    "#examined in data exploration were heavily skewed and had many outliers.\n",
    "#Another limitation is the contextualization of the research question.\n",
    "#Our main outcome variable is the price which is set by the owner who\n",
    "#in reality probably does not have a flawless system for setting their price that\n",
    "#maximizes possible revenue. In other words price does not perfectly reflect value"
   ]
  }
 ],
 "metadata": {
  "kernelspec": {
   "display_name": "Python 3",
   "language": "python",
   "name": "python3"
  },
  "language_info": {
   "codemirror_mode": {
    "name": "ipython",
    "version": 3
   },
   "file_extension": ".py",
   "mimetype": "text/x-python",
   "name": "python",
   "nbconvert_exporter": "python",
   "pygments_lexer": "ipython3",
   "version": "3.8.5"
  }
 },
 "nbformat": 4,
 "nbformat_minor": 4
}
